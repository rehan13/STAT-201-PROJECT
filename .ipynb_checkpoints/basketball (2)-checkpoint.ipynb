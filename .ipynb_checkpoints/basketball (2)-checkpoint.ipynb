{
 "cells": [
  {
   "cell_type": "markdown",
   "id": "2dee91fb-7d31-4e47-958f-12cd390c3902",
   "metadata": {},
   "source": [
    "# Is home court advantage real?\n",
    "Group: Radman Tavakoli, Yao(Chengyuan) Yao, Rehan Mondal , Parham Alijani\n",
    "\n",
    "\n",
    "\n"
   ]
  },
  {
   "cell_type": "markdown",
   "id": "d385b412-f615-46bc-96af-9526a0341b56",
   "metadata": {},
   "source": [
    "## Introduction"
   ]
  },
  {
   "cell_type": "markdown",
   "id": "45ad3b52-66c6-4723-a34b-9c38f3a20c6f",
   "metadata": {},
   "source": []
  },
  {
   "cell_type": "code",
   "execution_count": 1,
   "id": "16a0a798-1c38-4ca9-ad7c-019620ab9a5f",
   "metadata": {},
   "outputs": [
    {
     "name": "stderr",
     "output_type": "stream",
     "text": [
      "── \u001b[1mAttaching packages\u001b[22m ─────────────────────────────────────── tidyverse 1.3.0 ──\n",
      "\n",
      "\u001b[32m✔\u001b[39m \u001b[34mggplot2\u001b[39m 3.3.6     \u001b[32m✔\u001b[39m \u001b[34mpurrr  \u001b[39m 0.3.4\n",
      "\u001b[32m✔\u001b[39m \u001b[34mtibble \u001b[39m 3.1.7     \u001b[32m✔\u001b[39m \u001b[34mdplyr  \u001b[39m 1.0.9\n",
      "\u001b[32m✔\u001b[39m \u001b[34mtidyr  \u001b[39m 1.2.0     \u001b[32m✔\u001b[39m \u001b[34mstringr\u001b[39m 1.4.0\n",
      "\u001b[32m✔\u001b[39m \u001b[34mreadr  \u001b[39m 2.1.2     \u001b[32m✔\u001b[39m \u001b[34mforcats\u001b[39m 0.5.1\n",
      "\n",
      "── \u001b[1mConflicts\u001b[22m ────────────────────────────────────────── tidyverse_conflicts() ──\n",
      "\u001b[31m✖\u001b[39m \u001b[34mdplyr\u001b[39m::\u001b[32mfilter()\u001b[39m masks \u001b[34mstats\u001b[39m::filter()\n",
      "\u001b[31m✖\u001b[39m \u001b[34mdplyr\u001b[39m::\u001b[32mlag()\u001b[39m    masks \u001b[34mstats\u001b[39m::lag()\n",
      "\n"
     ]
    }
   ],
   "source": [
    "# loading libraries\n",
    "#library(cowplot)\n",
    "# library(digest)\n",
    "# library(gridExtra)\n",
    "library(infer)\n",
    "library(repr)\n",
    "library(tidyverse)\n",
    "library(rsample)\n",
    "\n",
    "# library(datateachr)"
   ]
  },
  {
   "cell_type": "code",
   "execution_count": 2,
   "id": "c227d6bf-d441-4890-bed0-a962f382e161",
   "metadata": {},
   "outputs": [
    {
     "name": "stderr",
     "output_type": "stream",
     "text": [
      "\u001b[1mRows: \u001b[22m\u001b[34m25796\u001b[39m \u001b[1mColumns: \u001b[22m\u001b[34m21\u001b[39m\n",
      "\u001b[36m──\u001b[39m \u001b[1mColumn specification\u001b[22m \u001b[36m────────────────────────────────────────────────────────\u001b[39m\n",
      "\u001b[1mDelimiter:\u001b[22m \",\"\n",
      "\u001b[31mchr\u001b[39m   (1): GAME_STATUS_TEXT\n",
      "\u001b[32mdbl\u001b[39m  (19): GAME_ID, HOME_TEAM_ID, VISITOR_TEAM_ID, SEASON, TEAM_ID_home, PTS...\n",
      "\u001b[34mdate\u001b[39m  (1): GAME_DATE_EST\n",
      "\n",
      "\u001b[36mℹ\u001b[39m Use `spec()` to retrieve the full column specification for this data.\n",
      "\u001b[36mℹ\u001b[39m Specify the column types or set `show_col_types = FALSE` to quiet this message.\n"
     ]
    },
    {
     "data": {
      "text/html": [
       "<table class=\"dataframe\">\n",
       "<caption>A tibble: 6 × 21</caption>\n",
       "<thead>\n",
       "\t<tr><th scope=col>GAME_DATE_EST</th><th scope=col>GAME_ID</th><th scope=col>GAME_STATUS_TEXT</th><th scope=col>HOME_TEAM_ID</th><th scope=col>VISITOR_TEAM_ID</th><th scope=col>SEASON</th><th scope=col>TEAM_ID_home</th><th scope=col>PTS_home</th><th scope=col>FG_PCT_home</th><th scope=col>FT_PCT_home</th><th scope=col>⋯</th><th scope=col>AST_home</th><th scope=col>REB_home</th><th scope=col>TEAM_ID_away</th><th scope=col>PTS_away</th><th scope=col>FG_PCT_away</th><th scope=col>FT_PCT_away</th><th scope=col>FG3_PCT_away</th><th scope=col>AST_away</th><th scope=col>REB_away</th><th scope=col>HOME_TEAM_WINS</th></tr>\n",
       "\t<tr><th scope=col>&lt;date&gt;</th><th scope=col>&lt;dbl&gt;</th><th scope=col>&lt;chr&gt;</th><th scope=col>&lt;dbl&gt;</th><th scope=col>&lt;dbl&gt;</th><th scope=col>&lt;dbl&gt;</th><th scope=col>&lt;dbl&gt;</th><th scope=col>&lt;dbl&gt;</th><th scope=col>&lt;dbl&gt;</th><th scope=col>&lt;dbl&gt;</th><th scope=col>⋯</th><th scope=col>&lt;dbl&gt;</th><th scope=col>&lt;dbl&gt;</th><th scope=col>&lt;dbl&gt;</th><th scope=col>&lt;dbl&gt;</th><th scope=col>&lt;dbl&gt;</th><th scope=col>&lt;dbl&gt;</th><th scope=col>&lt;dbl&gt;</th><th scope=col>&lt;dbl&gt;</th><th scope=col>&lt;dbl&gt;</th><th scope=col>&lt;dbl&gt;</th></tr>\n",
       "</thead>\n",
       "<tbody>\n",
       "\t<tr><td>2022-03-12</td><td>22101005</td><td>Final</td><td>1610612748</td><td>1610612750</td><td>2021</td><td>1610612748</td><td>104</td><td>0.398</td><td>0.760</td><td>⋯</td><td>23</td><td>53</td><td>1610612750</td><td>113</td><td>0.422</td><td>0.875</td><td>0.357</td><td>21</td><td>46</td><td>0</td></tr>\n",
       "\t<tr><td>2022-03-12</td><td>22101006</td><td>Final</td><td>1610612741</td><td>1610612739</td><td>2021</td><td>1610612741</td><td>101</td><td>0.443</td><td>0.933</td><td>⋯</td><td>20</td><td>46</td><td>1610612739</td><td> 91</td><td>0.419</td><td>0.824</td><td>0.208</td><td>19</td><td>40</td><td>1</td></tr>\n",
       "\t<tr><td>2022-03-12</td><td>22101007</td><td>Final</td><td>1610612759</td><td>1610612754</td><td>2021</td><td>1610612759</td><td>108</td><td>0.412</td><td>0.813</td><td>⋯</td><td>28</td><td>52</td><td>1610612754</td><td>119</td><td>0.489</td><td>1.000</td><td>0.389</td><td>23</td><td>47</td><td>0</td></tr>\n",
       "\t<tr><td>2022-03-12</td><td>22101008</td><td>Final</td><td>1610612744</td><td>1610612749</td><td>2021</td><td>1610612744</td><td>122</td><td>0.484</td><td>0.933</td><td>⋯</td><td>33</td><td>55</td><td>1610612749</td><td>109</td><td>0.413</td><td>0.696</td><td>0.386</td><td>27</td><td>39</td><td>1</td></tr>\n",
       "\t<tr><td>2022-03-12</td><td>22101009</td><td>Final</td><td>1610612743</td><td>1610612761</td><td>2021</td><td>1610612743</td><td>115</td><td>0.551</td><td>0.750</td><td>⋯</td><td>32</td><td>39</td><td>1610612761</td><td>127</td><td>0.471</td><td>0.760</td><td>0.387</td><td>28</td><td>50</td><td>0</td></tr>\n",
       "\t<tr><td>2022-03-12</td><td>22101010</td><td>Final</td><td>1610612762</td><td>1610612758</td><td>2021</td><td>1610612762</td><td>134</td><td>0.558</td><td>0.710</td><td>⋯</td><td>21</td><td>44</td><td>1610612758</td><td>125</td><td>0.500</td><td>0.857</td><td>0.394</td><td>27</td><td>33</td><td>1</td></tr>\n",
       "</tbody>\n",
       "</table>\n"
      ],
      "text/latex": [
       "A tibble: 6 × 21\n",
       "\\begin{tabular}{lllllllllllllllllllll}\n",
       " GAME\\_DATE\\_EST & GAME\\_ID & GAME\\_STATUS\\_TEXT & HOME\\_TEAM\\_ID & VISITOR\\_TEAM\\_ID & SEASON & TEAM\\_ID\\_home & PTS\\_home & FG\\_PCT\\_home & FT\\_PCT\\_home & ⋯ & AST\\_home & REB\\_home & TEAM\\_ID\\_away & PTS\\_away & FG\\_PCT\\_away & FT\\_PCT\\_away & FG3\\_PCT\\_away & AST\\_away & REB\\_away & HOME\\_TEAM\\_WINS\\\\\n",
       " <date> & <dbl> & <chr> & <dbl> & <dbl> & <dbl> & <dbl> & <dbl> & <dbl> & <dbl> & ⋯ & <dbl> & <dbl> & <dbl> & <dbl> & <dbl> & <dbl> & <dbl> & <dbl> & <dbl> & <dbl>\\\\\n",
       "\\hline\n",
       "\t 2022-03-12 & 22101005 & Final & 1610612748 & 1610612750 & 2021 & 1610612748 & 104 & 0.398 & 0.760 & ⋯ & 23 & 53 & 1610612750 & 113 & 0.422 & 0.875 & 0.357 & 21 & 46 & 0\\\\\n",
       "\t 2022-03-12 & 22101006 & Final & 1610612741 & 1610612739 & 2021 & 1610612741 & 101 & 0.443 & 0.933 & ⋯ & 20 & 46 & 1610612739 &  91 & 0.419 & 0.824 & 0.208 & 19 & 40 & 1\\\\\n",
       "\t 2022-03-12 & 22101007 & Final & 1610612759 & 1610612754 & 2021 & 1610612759 & 108 & 0.412 & 0.813 & ⋯ & 28 & 52 & 1610612754 & 119 & 0.489 & 1.000 & 0.389 & 23 & 47 & 0\\\\\n",
       "\t 2022-03-12 & 22101008 & Final & 1610612744 & 1610612749 & 2021 & 1610612744 & 122 & 0.484 & 0.933 & ⋯ & 33 & 55 & 1610612749 & 109 & 0.413 & 0.696 & 0.386 & 27 & 39 & 1\\\\\n",
       "\t 2022-03-12 & 22101009 & Final & 1610612743 & 1610612761 & 2021 & 1610612743 & 115 & 0.551 & 0.750 & ⋯ & 32 & 39 & 1610612761 & 127 & 0.471 & 0.760 & 0.387 & 28 & 50 & 0\\\\\n",
       "\t 2022-03-12 & 22101010 & Final & 1610612762 & 1610612758 & 2021 & 1610612762 & 134 & 0.558 & 0.710 & ⋯ & 21 & 44 & 1610612758 & 125 & 0.500 & 0.857 & 0.394 & 27 & 33 & 1\\\\\n",
       "\\end{tabular}\n"
      ],
      "text/markdown": [
       "\n",
       "A tibble: 6 × 21\n",
       "\n",
       "| GAME_DATE_EST &lt;date&gt; | GAME_ID &lt;dbl&gt; | GAME_STATUS_TEXT &lt;chr&gt; | HOME_TEAM_ID &lt;dbl&gt; | VISITOR_TEAM_ID &lt;dbl&gt; | SEASON &lt;dbl&gt; | TEAM_ID_home &lt;dbl&gt; | PTS_home &lt;dbl&gt; | FG_PCT_home &lt;dbl&gt; | FT_PCT_home &lt;dbl&gt; | ⋯ ⋯ | AST_home &lt;dbl&gt; | REB_home &lt;dbl&gt; | TEAM_ID_away &lt;dbl&gt; | PTS_away &lt;dbl&gt; | FG_PCT_away &lt;dbl&gt; | FT_PCT_away &lt;dbl&gt; | FG3_PCT_away &lt;dbl&gt; | AST_away &lt;dbl&gt; | REB_away &lt;dbl&gt; | HOME_TEAM_WINS &lt;dbl&gt; |\n",
       "|---|---|---|---|---|---|---|---|---|---|---|---|---|---|---|---|---|---|---|---|---|\n",
       "| 2022-03-12 | 22101005 | Final | 1610612748 | 1610612750 | 2021 | 1610612748 | 104 | 0.398 | 0.760 | ⋯ | 23 | 53 | 1610612750 | 113 | 0.422 | 0.875 | 0.357 | 21 | 46 | 0 |\n",
       "| 2022-03-12 | 22101006 | Final | 1610612741 | 1610612739 | 2021 | 1610612741 | 101 | 0.443 | 0.933 | ⋯ | 20 | 46 | 1610612739 |  91 | 0.419 | 0.824 | 0.208 | 19 | 40 | 1 |\n",
       "| 2022-03-12 | 22101007 | Final | 1610612759 | 1610612754 | 2021 | 1610612759 | 108 | 0.412 | 0.813 | ⋯ | 28 | 52 | 1610612754 | 119 | 0.489 | 1.000 | 0.389 | 23 | 47 | 0 |\n",
       "| 2022-03-12 | 22101008 | Final | 1610612744 | 1610612749 | 2021 | 1610612744 | 122 | 0.484 | 0.933 | ⋯ | 33 | 55 | 1610612749 | 109 | 0.413 | 0.696 | 0.386 | 27 | 39 | 1 |\n",
       "| 2022-03-12 | 22101009 | Final | 1610612743 | 1610612761 | 2021 | 1610612743 | 115 | 0.551 | 0.750 | ⋯ | 32 | 39 | 1610612761 | 127 | 0.471 | 0.760 | 0.387 | 28 | 50 | 0 |\n",
       "| 2022-03-12 | 22101010 | Final | 1610612762 | 1610612758 | 2021 | 1610612762 | 134 | 0.558 | 0.710 | ⋯ | 21 | 44 | 1610612758 | 125 | 0.500 | 0.857 | 0.394 | 27 | 33 | 1 |\n",
       "\n"
      ],
      "text/plain": [
       "  GAME_DATE_EST GAME_ID  GAME_STATUS_TEXT HOME_TEAM_ID VISITOR_TEAM_ID SEASON\n",
       "1 2022-03-12    22101005 Final            1610612748   1610612750      2021  \n",
       "2 2022-03-12    22101006 Final            1610612741   1610612739      2021  \n",
       "3 2022-03-12    22101007 Final            1610612759   1610612754      2021  \n",
       "4 2022-03-12    22101008 Final            1610612744   1610612749      2021  \n",
       "5 2022-03-12    22101009 Final            1610612743   1610612761      2021  \n",
       "6 2022-03-12    22101010 Final            1610612762   1610612758      2021  \n",
       "  TEAM_ID_home PTS_home FG_PCT_home FT_PCT_home ⋯ AST_home REB_home\n",
       "1 1610612748   104      0.398       0.760       ⋯ 23       53      \n",
       "2 1610612741   101      0.443       0.933       ⋯ 20       46      \n",
       "3 1610612759   108      0.412       0.813       ⋯ 28       52      \n",
       "4 1610612744   122      0.484       0.933       ⋯ 33       55      \n",
       "5 1610612743   115      0.551       0.750       ⋯ 32       39      \n",
       "6 1610612762   134      0.558       0.710       ⋯ 21       44      \n",
       "  TEAM_ID_away PTS_away FG_PCT_away FT_PCT_away FG3_PCT_away AST_away REB_away\n",
       "1 1610612750   113      0.422       0.875       0.357        21       46      \n",
       "2 1610612739    91      0.419       0.824       0.208        19       40      \n",
       "3 1610612754   119      0.489       1.000       0.389        23       47      \n",
       "4 1610612749   109      0.413       0.696       0.386        27       39      \n",
       "5 1610612761   127      0.471       0.760       0.387        28       50      \n",
       "6 1610612758   125      0.500       0.857       0.394        27       33      \n",
       "  HOME_TEAM_WINS\n",
       "1 0             \n",
       "2 1             \n",
       "3 0             \n",
       "4 1             \n",
       "5 0             \n",
       "6 1             "
      ]
     },
     "metadata": {},
     "output_type": "display_data"
    },
    {
     "data": {
      "text/html": [
       "<style>\n",
       ".list-inline {list-style: none; margin:0; padding: 0}\n",
       ".list-inline>li {display: inline-block}\n",
       ".list-inline>li:not(:last-child)::after {content: \"\\00b7\"; padding: 0 .5ex}\n",
       "</style>\n",
       "<ol class=list-inline><li>'GAME_DATE_EST'</li><li>'GAME_ID'</li><li>'GAME_STATUS_TEXT'</li><li>'HOME_TEAM_ID'</li><li>'VISITOR_TEAM_ID'</li><li>'SEASON'</li><li>'TEAM_ID_home'</li><li>'PTS_home'</li><li>'FG_PCT_home'</li><li>'FT_PCT_home'</li><li>'FG3_PCT_home'</li><li>'AST_home'</li><li>'REB_home'</li><li>'TEAM_ID_away'</li><li>'PTS_away'</li><li>'FG_PCT_away'</li><li>'FT_PCT_away'</li><li>'FG3_PCT_away'</li><li>'AST_away'</li><li>'REB_away'</li><li>'HOME_TEAM_WINS'</li></ol>\n"
      ],
      "text/latex": [
       "\\begin{enumerate*}\n",
       "\\item 'GAME\\_DATE\\_EST'\n",
       "\\item 'GAME\\_ID'\n",
       "\\item 'GAME\\_STATUS\\_TEXT'\n",
       "\\item 'HOME\\_TEAM\\_ID'\n",
       "\\item 'VISITOR\\_TEAM\\_ID'\n",
       "\\item 'SEASON'\n",
       "\\item 'TEAM\\_ID\\_home'\n",
       "\\item 'PTS\\_home'\n",
       "\\item 'FG\\_PCT\\_home'\n",
       "\\item 'FT\\_PCT\\_home'\n",
       "\\item 'FG3\\_PCT\\_home'\n",
       "\\item 'AST\\_home'\n",
       "\\item 'REB\\_home'\n",
       "\\item 'TEAM\\_ID\\_away'\n",
       "\\item 'PTS\\_away'\n",
       "\\item 'FG\\_PCT\\_away'\n",
       "\\item 'FT\\_PCT\\_away'\n",
       "\\item 'FG3\\_PCT\\_away'\n",
       "\\item 'AST\\_away'\n",
       "\\item 'REB\\_away'\n",
       "\\item 'HOME\\_TEAM\\_WINS'\n",
       "\\end{enumerate*}\n"
      ],
      "text/markdown": [
       "1. 'GAME_DATE_EST'\n",
       "2. 'GAME_ID'\n",
       "3. 'GAME_STATUS_TEXT'\n",
       "4. 'HOME_TEAM_ID'\n",
       "5. 'VISITOR_TEAM_ID'\n",
       "6. 'SEASON'\n",
       "7. 'TEAM_ID_home'\n",
       "8. 'PTS_home'\n",
       "9. 'FG_PCT_home'\n",
       "10. 'FT_PCT_home'\n",
       "11. 'FG3_PCT_home'\n",
       "12. 'AST_home'\n",
       "13. 'REB_home'\n",
       "14. 'TEAM_ID_away'\n",
       "15. 'PTS_away'\n",
       "16. 'FG_PCT_away'\n",
       "17. 'FT_PCT_away'\n",
       "18. 'FG3_PCT_away'\n",
       "19. 'AST_away'\n",
       "20. 'REB_away'\n",
       "21. 'HOME_TEAM_WINS'\n",
       "\n",
       "\n"
      ],
      "text/plain": [
       " [1] \"GAME_DATE_EST\"    \"GAME_ID\"          \"GAME_STATUS_TEXT\" \"HOME_TEAM_ID\"    \n",
       " [5] \"VISITOR_TEAM_ID\"  \"SEASON\"           \"TEAM_ID_home\"     \"PTS_home\"        \n",
       " [9] \"FG_PCT_home\"      \"FT_PCT_home\"      \"FG3_PCT_home\"     \"AST_home\"        \n",
       "[13] \"REB_home\"         \"TEAM_ID_away\"     \"PTS_away\"         \"FG_PCT_away\"     \n",
       "[17] \"FT_PCT_away\"      \"FG3_PCT_away\"     \"AST_away\"         \"REB_away\"        \n",
       "[21] \"HOME_TEAM_WINS\"  "
      ]
     },
     "metadata": {},
     "output_type": "display_data"
    },
    {
     "data": {
      "text/html": [
       "25796"
      ],
      "text/latex": [
       "25796"
      ],
      "text/markdown": [
       "25796"
      ],
      "text/plain": [
       "[1] 25796"
      ]
     },
     "metadata": {},
     "output_type": "display_data"
    }
   ],
   "source": [
    "# reading data\n",
    "games <- read_csv(\"https://raw.githubusercontent.com/rehan13/STAT-201-PROJECT/main/games.csv\")\n",
    "head(games)\n",
    "colnames(games)\n",
    "games %>% nrow()"
   ]
  },
  {
   "cell_type": "markdown",
   "id": "010545af-35ec-4df5-bd79-ee7081d825fc",
   "metadata": {},
   "source": [
    "we are interested in knowing whether home teams win more often through knowing the score difference of home and away team for every game.\n",
    "TODO: explain how we split the data randomly in half and have a sample of size 25796 with even number of home and away team game observations."
   ]
  },
  {
   "cell_type": "code",
   "execution_count": 3,
   "id": "89e03548-bad4-4e75-b38c-8201846b07b1",
   "metadata": {},
   "outputs": [
    {
     "data": {
      "text/html": [
       "<table class=\"dataframe\">\n",
       "<caption>A data.frame: 6 × 2</caption>\n",
       "<thead>\n",
       "\t<tr><th></th><th scope=col>type</th><th scope=col>win</th></tr>\n",
       "\t<tr><th></th><th scope=col>&lt;chr&gt;</th><th scope=col>&lt;chr&gt;</th></tr>\n",
       "</thead>\n",
       "<tbody>\n",
       "\t<tr><th scope=row>1</th><td>home</td><td>1</td></tr>\n",
       "\t<tr><th scope=row>2</th><td>home</td><td>0</td></tr>\n",
       "\t<tr><th scope=row>3</th><td>home</td><td>1</td></tr>\n",
       "\t<tr><th scope=row>4</th><td>home</td><td>1</td></tr>\n",
       "\t<tr><th scope=row>5</th><td>home</td><td>1</td></tr>\n",
       "\t<tr><th scope=row>6</th><td>home</td><td>0</td></tr>\n",
       "</tbody>\n",
       "</table>\n"
      ],
      "text/latex": [
       "A data.frame: 6 × 2\n",
       "\\begin{tabular}{r|ll}\n",
       "  & type & win\\\\\n",
       "  & <chr> & <chr>\\\\\n",
       "\\hline\n",
       "\t1 & home & 1\\\\\n",
       "\t2 & home & 0\\\\\n",
       "\t3 & home & 1\\\\\n",
       "\t4 & home & 1\\\\\n",
       "\t5 & home & 1\\\\\n",
       "\t6 & home & 0\\\\\n",
       "\\end{tabular}\n"
      ],
      "text/markdown": [
       "\n",
       "A data.frame: 6 × 2\n",
       "\n",
       "| <!--/--> | type &lt;chr&gt; | win &lt;chr&gt; |\n",
       "|---|---|---|\n",
       "| 1 | home | 1 |\n",
       "| 2 | home | 0 |\n",
       "| 3 | home | 1 |\n",
       "| 4 | home | 1 |\n",
       "| 5 | home | 1 |\n",
       "| 6 | home | 0 |\n",
       "\n"
      ],
      "text/plain": [
       "  type win\n",
       "1 home 1  \n",
       "2 home 0  \n",
       "3 home 1  \n",
       "4 home 1  \n",
       "5 home 1  \n",
       "6 home 0  "
      ]
     },
     "metadata": {},
     "output_type": "display_data"
    },
    {
     "data": {
      "text/html": [
       "25796"
      ],
      "text/latex": [
       "25796"
      ],
      "text/markdown": [
       "25796"
      ],
      "text/plain": [
       "[1] 25796"
      ]
     },
     "metadata": {},
     "output_type": "display_data"
    }
   ],
   "source": [
    "set.seed(111)\n",
    "# converting the tibble to a dataframe, and selecting column of interest\n",
    "games <- games %>% \n",
    "    as.data.frame() %>%\n",
    "    select(HOME_TEAM_WINS)\n",
    "\n",
    "#splitting the data into home team and away team observations\n",
    "games_split <- initial_split(games, prop=0.5)\n",
    "# no need to stratify since any observation can be used as away or home team observation\n",
    "home <- training(games_split)\n",
    "away <- testing(games_split)\n",
    "\n",
    "home <- home %>%\n",
    "    summarize(\n",
    "        type = \"home\",\n",
    "        win = as.character(HOME_TEAM_WINS)\n",
    "    )\n",
    "# Adjusting the win variable so that it is in terms of the away team's win result\n",
    "away <- away %>%\n",
    "    summarize(\n",
    "        type = \"away\", \n",
    "        win = as.character(abs(1-HOME_TEAM_WINS))\n",
    "    )\n",
    "game_sample <- rbind(home, away)\n",
    "head(game_sample)\n",
    "nrow(game_sample)\n",
    "\n",
    "\n",
    "    "
   ]
  },
  {
   "cell_type": "code",
   "execution_count": 7,
   "id": "7efc62ac-c13f-46dc-b66d-5d2420dce8ba",
   "metadata": {},
   "outputs": [
    {
     "data": {
      "text/html": [
       "<table class=\"dataframe\">\n",
       "<caption>A tibble: 6 × 2</caption>\n",
       "<thead>\n",
       "\t<tr><th scope=col>replicate</th><th scope=col>stat</th></tr>\n",
       "\t<tr><th scope=col>&lt;int&gt;</th><th scope=col>&lt;dbl&gt;</th></tr>\n",
       "</thead>\n",
       "<tbody>\n",
       "\t<tr><td>1</td><td> 0.002868662</td></tr>\n",
       "\t<tr><td>2</td><td> 0.008605985</td></tr>\n",
       "\t<tr><td>3</td><td> 0.005039541</td></tr>\n",
       "\t<tr><td>4</td><td>-0.003333850</td></tr>\n",
       "\t<tr><td>5</td><td> 0.011242053</td></tr>\n",
       "\t<tr><td>6</td><td>-0.003178787</td></tr>\n",
       "</tbody>\n",
       "</table>\n"
      ],
      "text/latex": [
       "A tibble: 6 × 2\n",
       "\\begin{tabular}{ll}\n",
       " replicate & stat\\\\\n",
       " <int> & <dbl>\\\\\n",
       "\\hline\n",
       "\t 1 &  0.002868662\\\\\n",
       "\t 2 &  0.008605985\\\\\n",
       "\t 3 &  0.005039541\\\\\n",
       "\t 4 & -0.003333850\\\\\n",
       "\t 5 &  0.011242053\\\\\n",
       "\t 6 & -0.003178787\\\\\n",
       "\\end{tabular}\n"
      ],
      "text/markdown": [
       "\n",
       "A tibble: 6 × 2\n",
       "\n",
       "| replicate &lt;int&gt; | stat &lt;dbl&gt; |\n",
       "|---|---|\n",
       "| 1 |  0.002868662 |\n",
       "| 2 |  0.008605985 |\n",
       "| 3 |  0.005039541 |\n",
       "| 4 | -0.003333850 |\n",
       "| 5 |  0.011242053 |\n",
       "| 6 | -0.003178787 |\n",
       "\n"
      ],
      "text/plain": [
       "  replicate stat        \n",
       "1 1          0.002868662\n",
       "2 2          0.008605985\n",
       "3 3          0.005039541\n",
       "4 4         -0.003333850\n",
       "5 5          0.011242053\n",
       "6 6         -0.003178787"
      ]
     },
     "metadata": {},
     "output_type": "display_data"
    },
    {
     "data": {
      "text/html": [
       "<table class=\"dataframe\">\n",
       "<caption>A tibble: 1 × 1</caption>\n",
       "<thead>\n",
       "\t<tr><th scope=col>stat</th></tr>\n",
       "\t<tr><th scope=col>&lt;dbl&gt;</th></tr>\n",
       "</thead>\n",
       "<tbody>\n",
       "\t<tr><td>0.1749884</td></tr>\n",
       "</tbody>\n",
       "</table>\n"
      ],
      "text/latex": [
       "A tibble: 1 × 1\n",
       "\\begin{tabular}{l}\n",
       " stat\\\\\n",
       " <dbl>\\\\\n",
       "\\hline\n",
       "\t 0.1749884\\\\\n",
       "\\end{tabular}\n"
      ],
      "text/markdown": [
       "\n",
       "A tibble: 1 × 1\n",
       "\n",
       "| stat &lt;dbl&gt; |\n",
       "|---|\n",
       "| 0.1749884 |\n",
       "\n"
      ],
      "text/plain": [
       "  stat     \n",
       "1 0.1749884"
      ]
     },
     "metadata": {},
     "output_type": "display_data"
    }
   ],
   "source": [
    "set.seed(111)\n",
    "null_distribution <- game_sample %>% \n",
    "  specify(formula = win ~ type, success = \"1\") %>% \n",
    "  hypothesize(null = \"independence\") %>% \n",
    "  generate(reps = 1000, type = \"permute\") %>% \n",
    "  calculate(stat = \"diff in props\", order = c(\"home\", \"away\"))\n",
    "head(null_distribution)\n",
    "\n",
    "obs_diff_prop <- game_sample %>% \n",
    "  specify(win ~ type, success = \"1\") %>% \n",
    "  calculate(stat = \"diff in props\", order = c(\"home\", \"away\"))\n",
    "obs_diff_prop"
   ]
  },
  {
   "cell_type": "code",
   "execution_count": 8,
   "id": "5cccae93-4d86-470c-87dd-f4957db8c58b",
   "metadata": {},
   "outputs": [
    {
     "data": {
      "image/png": "[encoded data removed]",
      "text/plain": [
       "plot without title"
      ]
     },
     "metadata": {
      "image/png": {
       "height": 420,
       "width": 420
      }
     },
     "output_type": "display_data"
    }
   ],
   "source": [
    "visualize(null_distribution, bins = 10) + \n",
    "  shade_p_value(obs_stat = obs_diff_prop, direction = \"right\")"
   ]
  },
  {
   "cell_type": "markdown",
   "id": "5da8617a-ae52-4913-8f2c-1c460b7db1e2",
   "metadata": {},
   "source": [
    "## Methods"
   ]
  },
  {
   "cell_type": "markdown",
   "id": "81b67299-dad0-4e91-ae61-33b786096168",
   "metadata": {},
   "source": [
    "In this project we will hypthesize and find out if home teams have an actaul adavantage in their home court games. Since the data that is accessible to us is not the entire population we will use bootstrapping to create a distribution that will dipict the true population. As we will create the bootstrap distribution, we will try and get the standard error down to a minimum and calculate the proportion of matches won and lost by home teams on their home courts. This will all be done using the infer package.\n",
    "\n",
    "Following that we will generate confidence intervals and use them to calculate the probability of home team is winning a game in their home court. We will decide later whether to use 90 percent confidence interval or 95 percent confidence interval. \n",
    "\n",
    "1. Plots and statistics only give us some values that we can work on. We will interpret the statistics and explain the plots to make these data understandable by the audiences. In addition, we need to show how our procedures are valid, and reproducible.\n",
    "\n",
    "2. We will make two hypothesis tests, with:\n",
    "* H_0_1: p_h > p_a\n",
    "* H_0_2: p_h < p_a\n",
    "* H_a: p_h = p_a, where p_h is the chance that the hosting team wins, p_a is the chance that the away team wins.\n",
    "\n",
    "#### What do you expect to find?\n",
    "\n",
    "We expect to find the proportion of home wins for team and predict the odds to come to a conclusion if the home teams always have an advantage while playing against their opponents. \n",
    "\n",
    "#### What impact could such findings have and what future questions could this lead to?\n",
    "\n",
    "This could impact how the game is played. If we do find out that home teams always have an advantage, then it is unfair for the opponent as the morale of the players would be affected based on where they are playing. This even may effect individual player performance. For instance, a player may give a whole hearted effort in a home game but give little to no effort in an away game. In future this could lead to a change in how fixtures are set to maybe give fair odds of winning to both teams. \n",
    "\n",
    "\n",
    "\n"
   ]
  },
  {
   "cell_type": "markdown",
   "id": "6a756881-5b96-4ae8-ba1b-7d3a47849ee8",
   "metadata": {},
   "source": [
    "## Citation"
   ]
  },
  {
   "cell_type": "markdown",
   "id": "20fcc2ae-e7d7-47db-83a7-c69c3a8f8cb6",
   "metadata": {},
   "source": [
    "1. "
   ]
  },
  {
   "cell_type": "code",
   "execution_count": null,
   "id": "ee20b76a-38bf-44e0-b5ec-c89314518b61",
   "metadata": {},
   "outputs": [],
   "source": []
  }
 ],
 "metadata": {
  "kernelspec": {
   "display_name": "R",
   "language": "R",
   "name": "ir"
  },
  "language_info": {
   "codemirror_mode": "r",
   "file_extension": ".r",
   "mimetype": "text/x-r-source",
   "name": "R",
   "pygments_lexer": "r",
   "version": "4.0.5"
  }
 },
 "nbformat": 4,
 "nbformat_minor": 5
}
