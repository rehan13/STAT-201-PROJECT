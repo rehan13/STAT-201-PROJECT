{
 "cells": [
  {
   "cell_type": "code",
   "execution_count": 4,
   "id": "16a0a798-1c38-4ca9-ad7c-019620ab9a5f",
   "metadata": {},
   "outputs": [],
   "source": [
    "# library(cowplot)\n",
    "# library(digest)\n",
    "# library(gridExtra)\n",
    "library(infer)\n",
    "library(repr)\n",
    "library(tidyverse)\n",
    "# library(datateachr)"
   ]
  },
  {
   "cell_type": "code",
   "execution_count": 32,
   "id": "c227d6bf-d441-4890-bed0-a962f382e161",
   "metadata": {},
   "outputs": [
    {
     "name": "stderr",
     "output_type": "stream",
     "text": [
      "\u001b[1mRows: \u001b[22m\u001b[34m25796\u001b[39m \u001b[1mColumns: \u001b[22m\u001b[34m21\u001b[39m\n",
      "\u001b[36m──\u001b[39m \u001b[1mColumn specification\u001b[22m \u001b[36m────────────────────────────────────────────────────────\u001b[39m\n",
      "\u001b[1mDelimiter:\u001b[22m \",\"\n",
      "\u001b[31mchr\u001b[39m   (1): GAME_STATUS_TEXT\n",
      "\u001b[32mdbl\u001b[39m  (19): GAME_ID, HOME_TEAM_ID, VISITOR_TEAM_ID, SEASON, TEAM_ID_home, PTS...\n",
      "\u001b[34mdate\u001b[39m  (1): GAME_DATE_EST\n",
      "\n",
      "\u001b[36mℹ\u001b[39m Use `spec()` to retrieve the full column specification for this data.\n",
      "\u001b[36mℹ\u001b[39m Specify the column types or set `show_col_types = FALSE` to quiet this message.\n"
     ]
    },
    {
     "data": {
      "text/html": [
       "<table class=\"dataframe\">\n",
       "<caption>A tibble: 6 × 21</caption>\n",
       "<thead>\n",
       "\t<tr><th scope=col>GAME_DATE_EST</th><th scope=col>GAME_ID</th><th scope=col>GAME_STATUS_TEXT</th><th scope=col>HOME_TEAM_ID</th><th scope=col>VISITOR_TEAM_ID</th><th scope=col>SEASON</th><th scope=col>TEAM_ID_home</th><th scope=col>PTS_home</th><th scope=col>FG_PCT_home</th><th scope=col>FT_PCT_home</th><th scope=col>⋯</th><th scope=col>AST_home</th><th scope=col>REB_home</th><th scope=col>TEAM_ID_away</th><th scope=col>PTS_away</th><th scope=col>FG_PCT_away</th><th scope=col>FT_PCT_away</th><th scope=col>FG3_PCT_away</th><th scope=col>AST_away</th><th scope=col>REB_away</th><th scope=col>HOME_TEAM_WINS</th></tr>\n",
       "\t<tr><th scope=col>&lt;date&gt;</th><th scope=col>&lt;dbl&gt;</th><th scope=col>&lt;chr&gt;</th><th scope=col>&lt;dbl&gt;</th><th scope=col>&lt;dbl&gt;</th><th scope=col>&lt;dbl&gt;</th><th scope=col>&lt;dbl&gt;</th><th scope=col>&lt;dbl&gt;</th><th scope=col>&lt;dbl&gt;</th><th scope=col>&lt;dbl&gt;</th><th scope=col>⋯</th><th scope=col>&lt;dbl&gt;</th><th scope=col>&lt;dbl&gt;</th><th scope=col>&lt;dbl&gt;</th><th scope=col>&lt;dbl&gt;</th><th scope=col>&lt;dbl&gt;</th><th scope=col>&lt;dbl&gt;</th><th scope=col>&lt;dbl&gt;</th><th scope=col>&lt;dbl&gt;</th><th scope=col>&lt;dbl&gt;</th><th scope=col>&lt;dbl&gt;</th></tr>\n",
       "</thead>\n",
       "<tbody>\n",
       "\t<tr><td>2022-03-12</td><td>22101005</td><td>Final</td><td>1610612748</td><td>1610612750</td><td>2021</td><td>1610612748</td><td>104</td><td>0.398</td><td>0.760</td><td>⋯</td><td>23</td><td>53</td><td>1610612750</td><td>113</td><td>0.422</td><td>0.875</td><td>0.357</td><td>21</td><td>46</td><td>0</td></tr>\n",
       "\t<tr><td>2022-03-12</td><td>22101006</td><td>Final</td><td>1610612741</td><td>1610612739</td><td>2021</td><td>1610612741</td><td>101</td><td>0.443</td><td>0.933</td><td>⋯</td><td>20</td><td>46</td><td>1610612739</td><td> 91</td><td>0.419</td><td>0.824</td><td>0.208</td><td>19</td><td>40</td><td>1</td></tr>\n",
       "\t<tr><td>2022-03-12</td><td>22101007</td><td>Final</td><td>1610612759</td><td>1610612754</td><td>2021</td><td>1610612759</td><td>108</td><td>0.412</td><td>0.813</td><td>⋯</td><td>28</td><td>52</td><td>1610612754</td><td>119</td><td>0.489</td><td>1.000</td><td>0.389</td><td>23</td><td>47</td><td>0</td></tr>\n",
       "\t<tr><td>2022-03-12</td><td>22101008</td><td>Final</td><td>1610612744</td><td>1610612749</td><td>2021</td><td>1610612744</td><td>122</td><td>0.484</td><td>0.933</td><td>⋯</td><td>33</td><td>55</td><td>1610612749</td><td>109</td><td>0.413</td><td>0.696</td><td>0.386</td><td>27</td><td>39</td><td>1</td></tr>\n",
       "\t<tr><td>2022-03-12</td><td>22101009</td><td>Final</td><td>1610612743</td><td>1610612761</td><td>2021</td><td>1610612743</td><td>115</td><td>0.551</td><td>0.750</td><td>⋯</td><td>32</td><td>39</td><td>1610612761</td><td>127</td><td>0.471</td><td>0.760</td><td>0.387</td><td>28</td><td>50</td><td>0</td></tr>\n",
       "\t<tr><td>2022-03-12</td><td>22101010</td><td>Final</td><td>1610612762</td><td>1610612758</td><td>2021</td><td>1610612762</td><td>134</td><td>0.558</td><td>0.710</td><td>⋯</td><td>21</td><td>44</td><td>1610612758</td><td>125</td><td>0.500</td><td>0.857</td><td>0.394</td><td>27</td><td>33</td><td>1</td></tr>\n",
       "</tbody>\n",
       "</table>\n"
      ],
      "text/latex": [
       "A tibble: 6 × 21\n",
       "\\begin{tabular}{lllllllllllllllllllll}\n",
       " GAME\\_DATE\\_EST & GAME\\_ID & GAME\\_STATUS\\_TEXT & HOME\\_TEAM\\_ID & VISITOR\\_TEAM\\_ID & SEASON & TEAM\\_ID\\_home & PTS\\_home & FG\\_PCT\\_home & FT\\_PCT\\_home & ⋯ & AST\\_home & REB\\_home & TEAM\\_ID\\_away & PTS\\_away & FG\\_PCT\\_away & FT\\_PCT\\_away & FG3\\_PCT\\_away & AST\\_away & REB\\_away & HOME\\_TEAM\\_WINS\\\\\n",
       " <date> & <dbl> & <chr> & <dbl> & <dbl> & <dbl> & <dbl> & <dbl> & <dbl> & <dbl> & ⋯ & <dbl> & <dbl> & <dbl> & <dbl> & <dbl> & <dbl> & <dbl> & <dbl> & <dbl> & <dbl>\\\\\n",
       "\\hline\n",
       "\t 2022-03-12 & 22101005 & Final & 1610612748 & 1610612750 & 2021 & 1610612748 & 104 & 0.398 & 0.760 & ⋯ & 23 & 53 & 1610612750 & 113 & 0.422 & 0.875 & 0.357 & 21 & 46 & 0\\\\\n",
       "\t 2022-03-12 & 22101006 & Final & 1610612741 & 1610612739 & 2021 & 1610612741 & 101 & 0.443 & 0.933 & ⋯ & 20 & 46 & 1610612739 &  91 & 0.419 & 0.824 & 0.208 & 19 & 40 & 1\\\\\n",
       "\t 2022-03-12 & 22101007 & Final & 1610612759 & 1610612754 & 2021 & 1610612759 & 108 & 0.412 & 0.813 & ⋯ & 28 & 52 & 1610612754 & 119 & 0.489 & 1.000 & 0.389 & 23 & 47 & 0\\\\\n",
       "\t 2022-03-12 & 22101008 & Final & 1610612744 & 1610612749 & 2021 & 1610612744 & 122 & 0.484 & 0.933 & ⋯ & 33 & 55 & 1610612749 & 109 & 0.413 & 0.696 & 0.386 & 27 & 39 & 1\\\\\n",
       "\t 2022-03-12 & 22101009 & Final & 1610612743 & 1610612761 & 2021 & 1610612743 & 115 & 0.551 & 0.750 & ⋯ & 32 & 39 & 1610612761 & 127 & 0.471 & 0.760 & 0.387 & 28 & 50 & 0\\\\\n",
       "\t 2022-03-12 & 22101010 & Final & 1610612762 & 1610612758 & 2021 & 1610612762 & 134 & 0.558 & 0.710 & ⋯ & 21 & 44 & 1610612758 & 125 & 0.500 & 0.857 & 0.394 & 27 & 33 & 1\\\\\n",
       "\\end{tabular}\n"
      ],
      "text/markdown": [
       "\n",
       "A tibble: 6 × 21\n",
       "\n",
       "| GAME_DATE_EST &lt;date&gt; | GAME_ID &lt;dbl&gt; | GAME_STATUS_TEXT &lt;chr&gt; | HOME_TEAM_ID &lt;dbl&gt; | VISITOR_TEAM_ID &lt;dbl&gt; | SEASON &lt;dbl&gt; | TEAM_ID_home &lt;dbl&gt; | PTS_home &lt;dbl&gt; | FG_PCT_home &lt;dbl&gt; | FT_PCT_home &lt;dbl&gt; | ⋯ ⋯ | AST_home &lt;dbl&gt; | REB_home &lt;dbl&gt; | TEAM_ID_away &lt;dbl&gt; | PTS_away &lt;dbl&gt; | FG_PCT_away &lt;dbl&gt; | FT_PCT_away &lt;dbl&gt; | FG3_PCT_away &lt;dbl&gt; | AST_away &lt;dbl&gt; | REB_away &lt;dbl&gt; | HOME_TEAM_WINS &lt;dbl&gt; |\n",
       "|---|---|---|---|---|---|---|---|---|---|---|---|---|---|---|---|---|---|---|---|---|\n",
       "| 2022-03-12 | 22101005 | Final | 1610612748 | 1610612750 | 2021 | 1610612748 | 104 | 0.398 | 0.760 | ⋯ | 23 | 53 | 1610612750 | 113 | 0.422 | 0.875 | 0.357 | 21 | 46 | 0 |\n",
       "| 2022-03-12 | 22101006 | Final | 1610612741 | 1610612739 | 2021 | 1610612741 | 101 | 0.443 | 0.933 | ⋯ | 20 | 46 | 1610612739 |  91 | 0.419 | 0.824 | 0.208 | 19 | 40 | 1 |\n",
       "| 2022-03-12 | 22101007 | Final | 1610612759 | 1610612754 | 2021 | 1610612759 | 108 | 0.412 | 0.813 | ⋯ | 28 | 52 | 1610612754 | 119 | 0.489 | 1.000 | 0.389 | 23 | 47 | 0 |\n",
       "| 2022-03-12 | 22101008 | Final | 1610612744 | 1610612749 | 2021 | 1610612744 | 122 | 0.484 | 0.933 | ⋯ | 33 | 55 | 1610612749 | 109 | 0.413 | 0.696 | 0.386 | 27 | 39 | 1 |\n",
       "| 2022-03-12 | 22101009 | Final | 1610612743 | 1610612761 | 2021 | 1610612743 | 115 | 0.551 | 0.750 | ⋯ | 32 | 39 | 1610612761 | 127 | 0.471 | 0.760 | 0.387 | 28 | 50 | 0 |\n",
       "| 2022-03-12 | 22101010 | Final | 1610612762 | 1610612758 | 2021 | 1610612762 | 134 | 0.558 | 0.710 | ⋯ | 21 | 44 | 1610612758 | 125 | 0.500 | 0.857 | 0.394 | 27 | 33 | 1 |\n",
       "\n"
      ],
      "text/plain": [
       "  GAME_DATE_EST GAME_ID  GAME_STATUS_TEXT HOME_TEAM_ID VISITOR_TEAM_ID SEASON\n",
       "1 2022-03-12    22101005 Final            1610612748   1610612750      2021  \n",
       "2 2022-03-12    22101006 Final            1610612741   1610612739      2021  \n",
       "3 2022-03-12    22101007 Final            1610612759   1610612754      2021  \n",
       "4 2022-03-12    22101008 Final            1610612744   1610612749      2021  \n",
       "5 2022-03-12    22101009 Final            1610612743   1610612761      2021  \n",
       "6 2022-03-12    22101010 Final            1610612762   1610612758      2021  \n",
       "  TEAM_ID_home PTS_home FG_PCT_home FT_PCT_home ⋯ AST_home REB_home\n",
       "1 1610612748   104      0.398       0.760       ⋯ 23       53      \n",
       "2 1610612741   101      0.443       0.933       ⋯ 20       46      \n",
       "3 1610612759   108      0.412       0.813       ⋯ 28       52      \n",
       "4 1610612744   122      0.484       0.933       ⋯ 33       55      \n",
       "5 1610612743   115      0.551       0.750       ⋯ 32       39      \n",
       "6 1610612762   134      0.558       0.710       ⋯ 21       44      \n",
       "  TEAM_ID_away PTS_away FG_PCT_away FT_PCT_away FG3_PCT_away AST_away REB_away\n",
       "1 1610612750   113      0.422       0.875       0.357        21       46      \n",
       "2 1610612739    91      0.419       0.824       0.208        19       40      \n",
       "3 1610612754   119      0.489       1.000       0.389        23       47      \n",
       "4 1610612749   109      0.413       0.696       0.386        27       39      \n",
       "5 1610612761   127      0.471       0.760       0.387        28       50      \n",
       "6 1610612758   125      0.500       0.857       0.394        27       33      \n",
       "  HOME_TEAM_WINS\n",
       "1 0             \n",
       "2 1             \n",
       "3 0             \n",
       "4 1             \n",
       "5 0             \n",
       "6 1             "
      ]
     },
     "metadata": {},
     "output_type": "display_data"
    },
    {
     "data": {
      "text/html": [
       "<style>\n",
       ".list-inline {list-style: none; margin:0; padding: 0}\n",
       ".list-inline>li {display: inline-block}\n",
       ".list-inline>li:not(:last-child)::after {content: \"\\00b7\"; padding: 0 .5ex}\n",
       "</style>\n",
       "<ol class=list-inline><li>'GAME_DATE_EST'</li><li>'GAME_ID'</li><li>'GAME_STATUS_TEXT'</li><li>'HOME_TEAM_ID'</li><li>'VISITOR_TEAM_ID'</li><li>'SEASON'</li><li>'TEAM_ID_home'</li><li>'PTS_home'</li><li>'FG_PCT_home'</li><li>'FT_PCT_home'</li><li>'FG3_PCT_home'</li><li>'AST_home'</li><li>'REB_home'</li><li>'TEAM_ID_away'</li><li>'PTS_away'</li><li>'FG_PCT_away'</li><li>'FT_PCT_away'</li><li>'FG3_PCT_away'</li><li>'AST_away'</li><li>'REB_away'</li><li>'HOME_TEAM_WINS'</li></ol>\n"
      ],
      "text/latex": [
       "\\begin{enumerate*}\n",
       "\\item 'GAME\\_DATE\\_EST'\n",
       "\\item 'GAME\\_ID'\n",
       "\\item 'GAME\\_STATUS\\_TEXT'\n",
       "\\item 'HOME\\_TEAM\\_ID'\n",
       "\\item 'VISITOR\\_TEAM\\_ID'\n",
       "\\item 'SEASON'\n",
       "\\item 'TEAM\\_ID\\_home'\n",
       "\\item 'PTS\\_home'\n",
       "\\item 'FG\\_PCT\\_home'\n",
       "\\item 'FT\\_PCT\\_home'\n",
       "\\item 'FG3\\_PCT\\_home'\n",
       "\\item 'AST\\_home'\n",
       "\\item 'REB\\_home'\n",
       "\\item 'TEAM\\_ID\\_away'\n",
       "\\item 'PTS\\_away'\n",
       "\\item 'FG\\_PCT\\_away'\n",
       "\\item 'FT\\_PCT\\_away'\n",
       "\\item 'FG3\\_PCT\\_away'\n",
       "\\item 'AST\\_away'\n",
       "\\item 'REB\\_away'\n",
       "\\item 'HOME\\_TEAM\\_WINS'\n",
       "\\end{enumerate*}\n"
      ],
      "text/markdown": [
       "1. 'GAME_DATE_EST'\n",
       "2. 'GAME_ID'\n",
       "3. 'GAME_STATUS_TEXT'\n",
       "4. 'HOME_TEAM_ID'\n",
       "5. 'VISITOR_TEAM_ID'\n",
       "6. 'SEASON'\n",
       "7. 'TEAM_ID_home'\n",
       "8. 'PTS_home'\n",
       "9. 'FG_PCT_home'\n",
       "10. 'FT_PCT_home'\n",
       "11. 'FG3_PCT_home'\n",
       "12. 'AST_home'\n",
       "13. 'REB_home'\n",
       "14. 'TEAM_ID_away'\n",
       "15. 'PTS_away'\n",
       "16. 'FG_PCT_away'\n",
       "17. 'FT_PCT_away'\n",
       "18. 'FG3_PCT_away'\n",
       "19. 'AST_away'\n",
       "20. 'REB_away'\n",
       "21. 'HOME_TEAM_WINS'\n",
       "\n",
       "\n"
      ],
      "text/plain": [
       " [1] \"GAME_DATE_EST\"    \"GAME_ID\"          \"GAME_STATUS_TEXT\" \"HOME_TEAM_ID\"    \n",
       " [5] \"VISITOR_TEAM_ID\"  \"SEASON\"           \"TEAM_ID_home\"     \"PTS_home\"        \n",
       " [9] \"FG_PCT_home\"      \"FT_PCT_home\"      \"FG3_PCT_home\"     \"AST_home\"        \n",
       "[13] \"REB_home\"         \"TEAM_ID_away\"     \"PTS_away\"         \"FG_PCT_away\"     \n",
       "[17] \"FT_PCT_away\"      \"FG3_PCT_away\"     \"AST_away\"         \"REB_away\"        \n",
       "[21] \"HOME_TEAM_WINS\"  "
      ]
     },
     "metadata": {},
     "output_type": "display_data"
    }
   ],
   "source": [
    "games <- read_csv(\"games.csv\")\n",
    "head(games)\n",
    "colnames(games)"
   ]
  },
  {
   "cell_type": "markdown",
   "id": "010545af-35ec-4df5-bd79-ee7081d825fc",
   "metadata": {},
   "source": [
    "we are interested in knowing whether home teams win more often through knowing the score difference of home and away team for every game."
   ]
  },
  {
   "cell_type": "code",
   "execution_count": 62,
   "id": "89e03548-bad4-4e75-b38c-8201846b07b1",
   "metadata": {},
   "outputs": [
    {
     "data": {
      "text/html": [
       "25796"
      ],
      "text/latex": [
       "25796"
      ],
      "text/markdown": [
       "25796"
      ],
      "text/plain": [
       "[1] 25796"
      ]
     },
     "metadata": {},
     "output_type": "display_data"
    },
    {
     "data": {
      "text/html": [
       "0.585702280440904"
      ],
      "text/latex": [
       "0.585702280440904"
      ],
      "text/markdown": [
       "0.585702280440904"
      ],
      "text/plain": [
       "[1] 0.5857023"
      ]
     },
     "metadata": {},
     "output_type": "display_data"
    },
    {
     "name": "stderr",
     "output_type": "stream",
     "text": [
      "`stat_bin()` using `bins = 30`. Pick better value with `binwidth`.\n",
      "\n"
     ]
    },
    {
     "data": {
      "image/png": "[encoded data removed]",
      "text/plain": [
       "plot without title"
      ]
     },
     "metadata": {
      "image/png": {
       "height": 420,
       "width": 420
      }
     },
     "output_type": "display_data"
    }
   ],
   "source": [
    "games %>% nrow()\n",
    "\n",
    "# g <- games %>%\n",
    "#     mutate(year = format(GAME_DATE_EST, format=\"%Y\"))\n",
    "# head(g)\n",
    "g <- games %>%\n",
    "    group_by(HOME_TEAM_ID) %>%\n",
    "    summarize(\n",
    "              win_prop = sum(HOME_TEAM_WINS == 1)/ n()\n",
    "    )\n",
    "HA: HOME - Away >= 0\n",
    "# max(g$win_prop)\n",
    "# min(g$win_prop)\n",
    "mean(g$win_prop)\n",
    "g %>% ggplot(aes(x=win_prop)) + \n",
    "    geom_histogram()\n",
    "\n",
    "null_distribution <- promotions %>% \n",
    "  specify(formula = decision ~ gender, success = \"promoted\") %>% \n",
    "  hypothesize(null = \"independence\") %>% \n",
    "  generate(reps = 1000, type = \"permute\") %>% \n",
    "  calculate(stat = \"diff in props\", order = c(\"male\", \"female\"))\n",
    "    "
   ]
  },
  {
   "cell_type": "code",
   "execution_count": null,
   "id": "9cfd7bc5-6501-4115-8cd5-62161e5a9392",
   "metadata": {},
   "outputs": [],
   "source": [
    "#proportion of wins acrosss the 30 teams (categorical vars)\n",
    "# point difference, it also shows win or loss, might be more accurate than just win and loss, showing how strongly they win or lose"
   ]
  }
 ],
 "metadata": {
  "kernelspec": {
   "display_name": "R",
   "language": "R",
   "name": "ir"
  },
  "language_info": {
   "codemirror_mode": "r",
   "file_extension": ".r",
   "mimetype": "text/x-r-source",
   "name": "R",
   "pygments_lexer": "r",
   "version": "4.0.5"
  }
 },
 "nbformat": 4,
 "nbformat_minor": 5
}
